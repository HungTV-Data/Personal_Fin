{
 "cells": [
  {
   "cell_type": "code",
   "execution_count": 4,
   "id": "beca29e7-6033-4331-b6cc-e51087e982cf",
   "metadata": {},
   "outputs": [],
   "source": [
    "import pdfplumber\n",
    "import pandas as pd\n",
    "import re\n",
    "import sys\n",
    "\n",
    "from module.read_payslip import pdfReader, payslipReader"
   ]
  },
  {
   "cell_type": "code",
   "execution_count": 6,
   "id": "b62af188",
   "metadata": {},
   "outputs": [],
   "source": [
    "vng_payslip_reader = payslipReader(r\"D:\\Hungtv7\\Personal_Fin\\VNG_payslip\\payslip_VG-15316_2021_04.pdf\")\n",
    "\n",
    "# tables = vng_payslip_reader.extract_tables() # Extract tables from the PDF file\n",
    "transposed_tables = vng_payslip_reader.clean_tables() # Clean the tables\n",
    "vng_payslip_reader.exportColName(transposed_tables) # Export column names to a JSON file"
   ]
  }
 ],
 "metadata": {
  "kernelspec": {
   "display_name": "Python (personal_fin)",
   "language": "python",
   "name": "personal_fin"
  },
  "language_info": {
   "codemirror_mode": {
    "name": "ipython",
    "version": 3
   },
   "file_extension": ".py",
   "mimetype": "text/x-python",
   "name": "python",
   "nbconvert_exporter": "python",
   "pygments_lexer": "ipython3",
   "version": "3.12.4"
  },
  "panel-cell-order": [
   "6723d547-47fe-478d-9af8-70875935528b",
   "22840d3b-6512-4816-a28e-c990558dfa9c"
  ]
 },
 "nbformat": 4,
 "nbformat_minor": 5
}
