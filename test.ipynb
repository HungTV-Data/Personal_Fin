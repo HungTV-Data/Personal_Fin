{
 "cells": [
  {
   "cell_type": "code",
   "execution_count": 1,
   "id": "beca29e7-6033-4331-b6cc-e51087e982cf",
   "metadata": {},
   "outputs": [],
   "source": [
    "import pdfplumber\n",
    "import pandas as pd\n",
    "import re\n",
    "import sys\n",
    "\n",
    "from module.read_payslip import pdfReader, payslipReader"
   ]
  },
  {
   "cell_type": "code",
   "execution_count": 3,
   "id": "b62af188",
   "metadata": {},
   "outputs": [
    {
     "ename": "NameError",
     "evalue": "name 'payslipReader' is not defined",
     "output_type": "error",
     "traceback": [
      "\u001b[1;31m---------------------------------------------------------------------------\u001b[0m",
      "\u001b[1;31mNameError\u001b[0m                                 Traceback (most recent call last)",
      "Cell \u001b[1;32mIn[3], line 1\u001b[0m\n\u001b[1;32m----> 1\u001b[0m vng_payslip_reader \u001b[38;5;241m=\u001b[39m payslipReader(\u001b[38;5;124mr\u001b[39m\u001b[38;5;124m\"\u001b[39m\u001b[38;5;124mD:\u001b[39m\u001b[38;5;124m\\\u001b[39m\u001b[38;5;124mHungtv7\u001b[39m\u001b[38;5;124m\\\u001b[39m\u001b[38;5;124mPersonal_Fin\u001b[39m\u001b[38;5;124m\\\u001b[39m\u001b[38;5;124mVNG_payslip\u001b[39m\u001b[38;5;124m\\\u001b[39m\u001b[38;5;124mpayslip_VG-15316_2021_04.pdf\u001b[39m\u001b[38;5;124m\"\u001b[39m)\n\u001b[0;32m      3\u001b[0m \u001b[38;5;66;03m# tables = vng_payslip_reader.extract_tables() # Extract tables from the PDF file\u001b[39;00m\n\u001b[0;32m      4\u001b[0m transposed_tables \u001b[38;5;241m=\u001b[39m vng_payslip_reader\u001b[38;5;241m.\u001b[39mclean_tables() \u001b[38;5;66;03m# Clean the tables\u001b[39;00m\n",
      "\u001b[1;31mNameError\u001b[0m: name 'payslipReader' is not defined"
     ]
    }
   ],
   "source": [
    "vng_payslip_reader = payslipReader(r\"D:\\Hungtv7\\Personal_Fin\\VNG_payslip\\payslip_VG-15316_2021_04.pdf\")\n",
    "\n",
    "# tables = vng_payslip_reader.extract_tables() # Extract tables from the PDF file\n",
    "transposed_tables = vng_payslip_reader.clean_tables() # Clean the tables\n",
    "vng_payslip_reader.exportColName(transposed_tables) # Export column names to a JSON file"
   ]
  }
 ],
 "metadata": {
  "kernelspec": {
   "display_name": "Python (personal_fin)",
   "language": "python",
   "name": "personal_fin"
  },
  "language_info": {
   "codemirror_mode": {
    "name": "ipython",
    "version": 3
   },
   "file_extension": ".py",
   "mimetype": "text/x-python",
   "name": "python",
   "nbconvert_exporter": "python",
   "pygments_lexer": "ipython3",
   "version": "3.12.4"
  },
  "panel-cell-order": [
   "6723d547-47fe-478d-9af8-70875935528b",
   "22840d3b-6512-4816-a28e-c990558dfa9c"
  ]
 },
 "nbformat": 4,
 "nbformat_minor": 5
}
